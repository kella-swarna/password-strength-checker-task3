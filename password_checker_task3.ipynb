{
 "cells": [
  {
   "cell_type": "code",
   "execution_count": 19,
   "id": "6da7832c-51d3-46d1-95b2-6e6db31358e7",
   "metadata": {},
   "outputs": [],
   "source": [
    "import re\n"
   ]
  },
  {
   "cell_type": "code",
   "execution_count": 20,
   "id": "e4e52b90-3fe4-42ff-a4f5-48418116e441",
   "metadata": {},
   "outputs": [],
   "source": [
    "def check_password_strength(password):\n",
    "    length_error = len(password) < 8\n",
    "    uppercase_error = not re.search(r\"[A-Z]\", password)\n",
    "    lowercase_error = not re.search(r\"[a-z]\", password)\n",
    "    digit_error = not re.search(r\"\\d\", password)\n",
    "    special_char_error = not re.search(r\"[!@#$%^&*(),.?\\\":{}|<>]\", password)\n",
    "\n",
    "    # Count how many requirements are met\n",
    "    score = 5 - sum([length_error, uppercase_error, lowercase_error, digit_error, special_char_error])\n",
    "\n",
    "    # Strength classification\n",
    "    if score == 5:\n",
    "        strength = \"Strong\"\n",
    "    elif 3 <= score < 5:\n",
    "        strength = \"Medium\"\n",
    "    else:\n",
    "        strength = \"Weak\"\n",
    "\n",
    "    # Suggest improvements\n",
    "    suggestions = []\n",
    "    if length_error:\n",
    "        suggestions.append(\"Use at least 8 characters.\")\n",
    "    if uppercase_error:\n",
    "        suggestions.append(\"Add at least one uppercase letter.\")\n",
    "    if lowercase_error:\n",
    "        suggestions.append(\"Add at least one lowercase letter.\")\n",
    "    if digit_error:\n",
    "        suggestions.append(\"Include at least one number.\")\n",
    "    if special_char_error:\n",
    "        suggestions.append(\"Include at least one special character (!@#$ etc.)\")\n",
    "\n",
    "    return strength, suggestions\n"
   ]
  },
  {
   "cell_type": "code",
   "execution_count": 21,
   "id": "4317a8ab-ef51-49ec-a5ae-edfa480e6263",
   "metadata": {},
   "outputs": [
    {
     "name": "stdin",
     "output_type": "stream",
     "text": [
      "Enter your password:  MyPass123!\n"
     ]
    },
    {
     "name": "stdout",
     "output_type": "stream",
     "text": [
      "\n",
      "Password Strength: Strong\n",
      "Your password is strong!\n"
     ]
    }
   ],
   "source": [
    "# Input from user\n",
    "user_password = input(\"Enter your password: \")\n",
    "\n",
    "# Check strength\n",
    "strength, suggestions = check_password_strength(user_password)\n",
    "\n",
    "# Display result\n",
    "print(f\"\\nPassword Strength: {strength}\")\n",
    "if suggestions:\n",
    "    print(\"Suggestions to improve:\")\n",
    "    for tip in suggestions:\n",
    "        print(\" -\", tip)\n",
    "else:\n",
    "    print(\"Your password is strong!\")\n"
   ]
  },
  {
   "cell_type": "code",
   "execution_count": null,
   "id": "19130663-6b23-4eab-9526-69ec015bf04e",
   "metadata": {},
   "outputs": [],
   "source": []
  }
 ],
 "metadata": {
  "kernelspec": {
   "display_name": "Python [conda env:base] *",
   "language": "python",
   "name": "conda-base-py"
  },
  "language_info": {
   "codemirror_mode": {
    "name": "ipython",
    "version": 3
   },
   "file_extension": ".py",
   "mimetype": "text/x-python",
   "name": "python",
   "nbconvert_exporter": "python",
   "pygments_lexer": "ipython3",
   "version": "3.12.7"
  }
 },
 "nbformat": 4,
 "nbformat_minor": 5
}
